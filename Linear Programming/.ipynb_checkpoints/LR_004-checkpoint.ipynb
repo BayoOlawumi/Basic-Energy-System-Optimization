{
 "cells": [
  {
   "cell_type": "code",
   "execution_count": 29,
   "id": "45a1a0cd",
   "metadata": {},
   "outputs": [],
   "source": [
    "from docplex.mp.model import Model"
   ]
  },
  {
   "cell_type": "code",
   "execution_count": 30,
   "id": "858884f2",
   "metadata": {},
   "outputs": [],
   "source": [
    "n = Model(name=\"US Lab\")"
   ]
  },
  {
   "cell_type": "markdown",
   "id": "bb8eb15b",
   "metadata": {},
   "source": [
    "### Variables Declarations"
   ]
  },
  {
   "cell_type": "code",
   "execution_count": 31,
   "id": "64560a86",
   "metadata": {},
   "outputs": [],
   "source": [
    "\n",
    "x = n.continuous_var(name='supplier 1')\n",
    "y = n.continuous_var(name='supplier 2')\n",
    "z = n.continuous_var(name='supplier 3')"
   ]
  },
  {
   "cell_type": "markdown",
   "id": "107ff3f9",
   "metadata": {},
   "source": [
    "#### Constraints"
   ]
  },
  {
   "cell_type": "code",
   "execution_count": 32,
   "id": "bdf72e77",
   "metadata": {},
   "outputs": [],
   "source": [
    "\n",
    "x_constraint = n.add_constraint(x<=700)\n",
    "y_constraint = n.add_constraint(y<=700)\n",
    "z_constraint = n.add_constraint(z<=700)\n"
   ]
  },
  {
   "cell_type": "code",
   "execution_count": 33,
   "id": "bad16509",
   "metadata": {},
   "outputs": [],
   "source": [
    "large_constraint = n.add_constraint(n.sum([0.4*x, 0.3*y, 0.2*z])  >= 500)\n",
    "medium_constraint = n.add_constraint(n.sum([0.4*x, 0.35*y ,0.2*z])  >= 300)\n",
    "small_constraint = n.add_constraint(n.sum([0.2*x, 0.35*y, 0.6*z])  >= 300)"
   ]
  },
  {
   "cell_type": "markdown",
   "id": "a1edda51",
   "metadata": {},
   "source": [
    "### Formulation and Definition of Objective Function"
   ]
  },
  {
   "cell_type": "code",
   "execution_count": 34,
   "id": "5f2f0220",
   "metadata": {},
   "outputs": [],
   "source": [
    "n.minimize(5*x + 4*y + 3*z)"
   ]
  },
  {
   "cell_type": "code",
   "execution_count": 35,
   "id": "dc70fb97",
   "metadata": {},
   "outputs": [],
   "source": [
    "solution = n.solve()"
   ]
  },
  {
   "cell_type": "code",
   "execution_count": 36,
   "id": "ff3fca4f",
   "metadata": {},
   "outputs": [
    {
     "name": "stdout",
     "output_type": "stream",
     "text": [
      "solution for: US Lab\n",
      "objective: 6450.000\n",
      "status: OPTIMAL_SOLUTION(2)\n",
      "supplier 1 = 700.000\n",
      "supplier 2 = 700.000\n",
      "supplier 3 = 50.000\n"
     ]
    }
   ],
   "source": [
    "solution.display()"
   ]
  },
  {
   "cell_type": "code",
   "execution_count": null,
   "id": "ef448f91",
   "metadata": {},
   "outputs": [],
   "source": []
  }
 ],
 "metadata": {
  "kernelspec": {
   "display_name": "Python 3 (ipykernel)",
   "language": "python",
   "name": "python3"
  },
  "language_info": {
   "codemirror_mode": {
    "name": "ipython",
    "version": 3
   },
   "file_extension": ".py",
   "mimetype": "text/x-python",
   "name": "python",
   "nbconvert_exporter": "python",
   "pygments_lexer": "ipython3",
   "version": "3.9.13"
  }
 },
 "nbformat": 4,
 "nbformat_minor": 5
}
